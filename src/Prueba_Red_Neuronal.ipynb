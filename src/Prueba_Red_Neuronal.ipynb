{
 "cells": [
  {
   "cell_type": "markdown",
   "metadata": {},
   "source": [
    "## Prueba de  la red"
   ]
  },
  {
   "cell_type": "code",
   "execution_count": 1,
   "metadata": {},
   "outputs": [],
   "source": [
    "import cv2"
   ]
  },
  {
   "cell_type": "code",
   "execution_count": 2,
   "metadata": {},
   "outputs": [],
   "source": [
    "import tensorflow as tf\n",
    "#import keras\n",
    "import numpy as np\n",
    "#from keras import backend as K\n",
    "#K.tensorflow_backend._get_available_gpus()"
   ]
  },
  {
   "cell_type": "code",
   "execution_count": 3,
   "metadata": {},
   "outputs": [],
   "source": [
    "def prepare(filepath):\n",
    "    IMG_SIZE = 50  # 50 in txt-based\n",
    "    img_array = cv2.imread(filepath, cv2.IMREAD_GRAYSCALE)  # read in the image, convert to grayscale\n",
    "    new_array = cv2.resize(img_array, (IMG_SIZE, IMG_SIZE))  # resize image to match model's expected sizing\n",
    "    return new_array.reshape(1, IMG_SIZE, IMG_SIZE, 1).astype(float)/255.0  # return the image with shaping that TF wants.\n",
    "    #(self.features.astype(float)/ 255.0)\n",
    "#Next, we want to load our model:"
   ]
  },
  {
   "cell_type": "code",
   "execution_count": 4,
   "metadata": {},
   "outputs": [
    {
     "name": "stdout",
     "output_type": "stream",
     "text": [
      "WARNING:tensorflow:From D:\\Users\\User\\Anaconda3\\lib\\site-packages\\tensorflow\\python\\ops\\init_ops.py:97: calling GlorotUniform.__init__ (from tensorflow.python.ops.init_ops) with dtype is deprecated and will be removed in a future version.\n",
      "Instructions for updating:\n",
      "Call initializer instance with the dtype argument instead of passing it to the constructor\n",
      "WARNING:tensorflow:From D:\\Users\\User\\Anaconda3\\lib\\site-packages\\tensorflow\\python\\ops\\init_ops.py:1251: calling VarianceScaling.__init__ (from tensorflow.python.ops.init_ops) with dtype is deprecated and will be removed in a future version.\n",
      "Instructions for updating:\n",
      "Call initializer instance with the dtype argument instead of passing it to the constructor\n",
      "WARNING:tensorflow:From D:\\Users\\User\\Anaconda3\\lib\\site-packages\\tensorflow\\python\\ops\\init_ops.py:97: calling Zeros.__init__ (from tensorflow.python.ops.init_ops) with dtype is deprecated and will be removed in a future version.\n",
      "Instructions for updating:\n",
      "Call initializer instance with the dtype argument instead of passing it to the constructor\n"
     ]
    }
   ],
   "source": [
    "#model = tf.keras.models.load_model(\"model.Aveztruz\")\n",
    "#model = tf.keras.models.load_model(\"model.Jirafa\")\n",
    "#model = tf.keras.models.load_model(\"model.Cuyo\")\n",
    "#model = tf.keras.models.load_model(\"model.Pinguino\"\n",
    "model = tf.keras.models.load_model(\"model.Hipopotamo\")\n"
   ]
  },
  {
   "cell_type": "code",
   "execution_count": 5,
   "metadata": {},
   "outputs": [],
   "source": [
    "CATEGORIES =['NO es','Si es']"
   ]
  },
  {
   "cell_type": "code",
   "execution_count": 6,
   "metadata": {},
   "outputs": [],
   "source": [
    "#predictiona = model.predict([prepare('./control/a_Hipo.jpg')])\n",
    "#print(predictiona)  # will be a list in a list.\n",
    "#print(\"No Conejo\",predictiona[0][0])\n",
    "#print(\"conejo\",predictiona[0][1])\n",
    "#print(CATEGORIES[int(predictiona[0][0])])\n",
    "\n",
    "#max = np.argmax(predictiona)\n",
    "#result = CATEGORIES[max]\n",
    "#print(result)\n",
    "#result = \"Men: \"+str(predictiona[0][0])+\"% women: \"+str(predictiona[0][1])+\"%\"\n",
    "#plt.title(result)\n",
    "#printable = pre.visioned_image(img)\n",
    "#plt.imshow(printable)\n",
    "    #plt.savefig(img+\".png\")"
   ]
  },
  {
   "cell_type": "code",
   "execution_count": 7,
   "metadata": {},
   "outputs": [
    {
     "name": "stdout",
     "output_type": "stream",
     "text": [
      "[[0.10291104 0.89708894]]\n",
      "Si es\n"
     ]
    }
   ],
   "source": [
    "prediction = model.predict([prepare('./control/a_Hipo.jpg')])\n",
    "print(prediction)  # will be a list in a list.\n",
    "max = np.argmax(prediction)\n",
    "result = CATEGORIES[max]\n",
    "print(result)"
   ]
  },
  {
   "cell_type": "code",
   "execution_count": 8,
   "metadata": {},
   "outputs": [
    {
     "name": "stdout",
     "output_type": "stream",
     "text": [
      "[[0.03682953 0.96317047]]\n",
      "Si es\n"
     ]
    }
   ],
   "source": [
    "prediction = model.predict([prepare('./control/aa_Hipo.jpg')])\n",
    "print(prediction)  # will be a list in a list.\n",
    "max = np.argmax(prediction)\n",
    "result = CATEGORIES[max]\n",
    "print(result)"
   ]
  },
  {
   "cell_type": "code",
   "execution_count": 9,
   "metadata": {},
   "outputs": [
    {
     "name": "stdout",
     "output_type": "stream",
     "text": [
      "[[0.17840712 0.82159287]]\n",
      "Si es\n"
     ]
    }
   ],
   "source": [
    "prediction = model.predict([prepare('./control/b_Hipo.jpg')])\n",
    "print(prediction)  # will be a list in a list.\n",
    "max = np.argmax(prediction)\n",
    "result = CATEGORIES[max]\n",
    "print(result)"
   ]
  },
  {
   "cell_type": "code",
   "execution_count": 10,
   "metadata": {},
   "outputs": [
    {
     "name": "stdout",
     "output_type": "stream",
     "text": [
      "[[0.03965582 0.96034414]]\n",
      "Si es\n"
     ]
    }
   ],
   "source": [
    "prediction = model.predict([prepare('./control/c_Hipo.png')])\n",
    "print(prediction)  # will be a list in a list.\n",
    "max = np.argmax(prediction)\n",
    "result = CATEGORIES[max]\n",
    "print(result)"
   ]
  },
  {
   "cell_type": "code",
   "execution_count": 11,
   "metadata": {},
   "outputs": [
    {
     "name": "stdout",
     "output_type": "stream",
     "text": [
      "[[0.77405584 0.22594413]]\n",
      "NO es\n"
     ]
    }
   ],
   "source": [
    "prediction = model.predict([prepare('./control/d_Pingu.jpg')])\n",
    "print(prediction)  # will be a list in a list.\n",
    "max = np.argmax(prediction)\n",
    "result = CATEGORIES[max]\n",
    "print(result)"
   ]
  },
  {
   "cell_type": "code",
   "execution_count": 12,
   "metadata": {},
   "outputs": [
    {
     "name": "stdout",
     "output_type": "stream",
     "text": [
      "[[0.8244524  0.17554761]]\n",
      "NO es\n"
     ]
    }
   ],
   "source": [
    "prediction = model.predict([prepare('./control/e_Pingu.jpg')])\n",
    "print(prediction)  # will be a list in a list.\n",
    "max = np.argmax(prediction)\n",
    "result = CATEGORIES[max]\n",
    "print(result)"
   ]
  },
  {
   "cell_type": "code",
   "execution_count": 13,
   "metadata": {},
   "outputs": [
    {
     "name": "stdout",
     "output_type": "stream",
     "text": [
      "[[9.9999976e-01 2.2683651e-07]]\n",
      "NO es\n"
     ]
    }
   ],
   "source": [
    "prediction = model.predict([prepare('./control/f_Pingu.png')])\n",
    "print(prediction)  # will be a list in a list.\n",
    "max = np.argmax(prediction)\n",
    "result = CATEGORIES[max]\n",
    "print(result)"
   ]
  },
  {
   "cell_type": "code",
   "execution_count": 14,
   "metadata": {},
   "outputs": [
    {
     "name": "stdout",
     "output_type": "stream",
     "text": [
      "[[0.5728625  0.42713743]]\n",
      "NO es\n"
     ]
    }
   ],
   "source": [
    "prediction = model.predict([prepare('./control/g_Cuyo.jpg')])\n",
    "print(prediction)  # will be a list in a list.\n",
    "max = np.argmax(prediction)\n",
    "result = CATEGORIES[max]\n",
    "print(result)"
   ]
  },
  {
   "cell_type": "code",
   "execution_count": 15,
   "metadata": {},
   "outputs": [
    {
     "name": "stdout",
     "output_type": "stream",
     "text": [
      "[[0.8876415  0.11235847]]\n",
      "NO es\n"
     ]
    }
   ],
   "source": [
    "prediction = model.predict([prepare('./control/h_Cuyo.jpg')])\n",
    "print(prediction)  # will be a list in a list.\n",
    "max = np.argmax(prediction)\n",
    "result = CATEGORIES[max]\n",
    "print(result)"
   ]
  },
  {
   "cell_type": "code",
   "execution_count": 16,
   "metadata": {},
   "outputs": [
    {
     "name": "stdout",
     "output_type": "stream",
     "text": [
      "[[0.19155888 0.8084411 ]]\n",
      "Si es\n"
     ]
    }
   ],
   "source": [
    "prediction = model.predict([prepare('./control/i_Cuyo.jpg')])\n",
    "print(prediction)  # will be a list in a list.\n",
    "max = np.argmax(prediction)\n",
    "result = CATEGORIES[max]\n",
    "print(result)"
   ]
  },
  {
   "cell_type": "code",
   "execution_count": 17,
   "metadata": {},
   "outputs": [
    {
     "name": "stdout",
     "output_type": "stream",
     "text": [
      "[[0.99258053 0.00741938]]\n",
      "NO es\n"
     ]
    }
   ],
   "source": [
    "prediction = model.predict([prepare('./control/j_avez.jpg')])\n",
    "print(prediction)  # will be a list in a list.\n",
    "max = np.argmax(prediction)\n",
    "result = CATEGORIES[max]\n",
    "print(result)"
   ]
  },
  {
   "cell_type": "code",
   "execution_count": 18,
   "metadata": {},
   "outputs": [
    {
     "name": "stdout",
     "output_type": "stream",
     "text": [
      "[[9.9997699e-01 2.2977389e-05]]\n",
      "NO es\n"
     ]
    }
   ],
   "source": [
    "prediction = model.predict([prepare('./control/jj_avez.jfif')])\n",
    "print(prediction)  # will be a list in a list.\n",
    "max = np.argmax(prediction)\n",
    "result = CATEGORIES[max]\n",
    "print(result)"
   ]
  },
  {
   "cell_type": "code",
   "execution_count": 19,
   "metadata": {},
   "outputs": [
    {
     "name": "stdout",
     "output_type": "stream",
     "text": [
      "[[0.27653402 0.723466  ]]\n",
      "Si es\n"
     ]
    }
   ],
   "source": [
    "prediction = model.predict([prepare('./control/k_avez.jpg')])\n",
    "print(prediction)  # will be a list in a list.\n",
    "max = np.argmax(prediction)\n",
    "result = CATEGORIES[max]\n",
    "print(result)"
   ]
  },
  {
   "cell_type": "code",
   "execution_count": 20,
   "metadata": {},
   "outputs": [
    {
     "name": "stdout",
     "output_type": "stream",
     "text": [
      "[[0.5395881  0.46041194]]\n",
      "NO es\n"
     ]
    }
   ],
   "source": [
    "prediction = model.predict([prepare('./control/kk_avez.jpg')])\n",
    "print(prediction)  # will be a list in a list.\n",
    "max = np.argmax(prediction)\n",
    "result = CATEGORIES[max]\n",
    "print(result)"
   ]
  },
  {
   "cell_type": "code",
   "execution_count": 21,
   "metadata": {},
   "outputs": [
    {
     "name": "stdout",
     "output_type": "stream",
     "text": [
      "[[0.2758711 0.7241289]]\n",
      "Si es\n"
     ]
    }
   ],
   "source": [
    "prediction = model.predict([prepare('./control/l_avez.jpg')])\n",
    "print(prediction)  # will be a list in a list.\n",
    "max = np.argmax(prediction)\n",
    "result = CATEGORIES[max]\n",
    "print(result)"
   ]
  },
  {
   "cell_type": "code",
   "execution_count": 22,
   "metadata": {},
   "outputs": [
    {
     "name": "stdout",
     "output_type": "stream",
     "text": [
      "[[0.87358254 0.12641747]]\n",
      "NO es\n"
     ]
    }
   ],
   "source": [
    "prediction = model.predict([prepare('./control/m_jira.jpg')])\n",
    "print(prediction)  # will be a list in a list.\n",
    "max = np.argmax(prediction)\n",
    "result = CATEGORIES[max]\n",
    "print(result)"
   ]
  },
  {
   "cell_type": "code",
   "execution_count": 23,
   "metadata": {},
   "outputs": [
    {
     "name": "stdout",
     "output_type": "stream",
     "text": [
      "[[0.39995003 0.60005003]]\n",
      "Si es\n"
     ]
    }
   ],
   "source": [
    "prediction = model.predict([prepare('./control/n_jira.jpg')])\n",
    "print(prediction)  # will be a list in a list.\n",
    "max = np.argmax(prediction)\n",
    "result = CATEGORIES[max]\n",
    "print(result)"
   ]
  },
  {
   "cell_type": "code",
   "execution_count": 24,
   "metadata": {},
   "outputs": [
    {
     "name": "stdout",
     "output_type": "stream",
     "text": [
      "[[0.7411353 0.2588647]]\n",
      "NO es\n"
     ]
    }
   ],
   "source": [
    "prediction = model.predict([prepare('./control/o_jira.jpg')])\n",
    "print(prediction)  # will be a list in a list.\n",
    "max = np.argmax(prediction)\n",
    "result = CATEGORIES[max]\n",
    "print(result)"
   ]
  },
  {
   "cell_type": "code",
   "execution_count": null,
   "metadata": {},
   "outputs": [],
   "source": []
  },
  {
   "cell_type": "code",
   "execution_count": null,
   "metadata": {},
   "outputs": [],
   "source": []
  },
  {
   "cell_type": "code",
   "execution_count": 25,
   "metadata": {},
   "outputs": [
    {
     "name": "stdout",
     "output_type": "stream",
     "text": [
      "[[0.90208    0.09792004]]\n",
      "NO es\n"
     ]
    }
   ],
   "source": [
    "prediction = model.predict([prepare('./control/w_Libro.jpg')])\n",
    "print(prediction)  # will be a list in a list.\n",
    "max = np.argmax(prediction)\n",
    "result = CATEGORIES[max]\n",
    "print(result)"
   ]
  },
  {
   "cell_type": "code",
   "execution_count": 26,
   "metadata": {},
   "outputs": [
    {
     "name": "stdout",
     "output_type": "stream",
     "text": [
      "[[0.47245765 0.52754235]]\n",
      "Si es\n"
     ]
    }
   ],
   "source": [
    "prediction = model.predict([prepare('./control/x_Conejo.jpg')])\n",
    "print(prediction)  # will be a list in a list.\n",
    "max = np.argmax(prediction)\n",
    "result = CATEGORIES[max]\n",
    "print(result)"
   ]
  },
  {
   "cell_type": "code",
   "execution_count": 27,
   "metadata": {},
   "outputs": [
    {
     "name": "stdout",
     "output_type": "stream",
     "text": [
      "[[0.9374152  0.06258484]]\n",
      "NO es\n"
     ]
    }
   ],
   "source": [
    "prediction = model.predict([prepare('./control/y_Perro.png')])\n",
    "print(prediction)  # will be a list in a list.\n",
    "max = np.argmax(prediction)\n",
    "result = CATEGORIES[max]\n",
    "print(result)"
   ]
  },
  {
   "cell_type": "code",
   "execution_count": 28,
   "metadata": {},
   "outputs": [
    {
     "name": "stdout",
     "output_type": "stream",
     "text": [
      "[[0.9658291  0.03417092]]\n",
      "NO es\n"
     ]
    }
   ],
   "source": [
    "prediction = model.predict([prepare('./control/z_Conejo.jpg')])\n",
    "print(prediction)  # will be a list in a list.\n",
    "max = np.argmax(prediction)\n",
    "result = CATEGORIES[max]\n",
    "print(result)"
   ]
  },
  {
   "cell_type": "code",
   "execution_count": 29,
   "metadata": {},
   "outputs": [],
   "source": [
    "#decode_predictions(prediction)"
   ]
  },
  {
   "cell_type": "code",
   "execution_count": 30,
   "metadata": {},
   "outputs": [
    {
     "name": "stdout",
     "output_type": "stream",
     "text": [
      "Model: \"sequential\"\n",
      "_________________________________________________________________\n",
      "Layer (type)                 Output Shape              Param #   \n",
      "=================================================================\n",
      "conv2d (Conv2D)              (None, 46, 46, 16)        416       \n",
      "_________________________________________________________________\n",
      "conv2d_1 (Conv2D)            (None, 42, 42, 32)        12832     \n",
      "_________________________________________________________________\n",
      "max_pooling2d (MaxPooling2D) (None, 21, 21, 32)        0         \n",
      "_________________________________________________________________\n",
      "conv2d_2 (Conv2D)            (None, 19, 19, 64)        18496     \n",
      "_________________________________________________________________\n",
      "conv2d_3 (Conv2D)            (None, 17, 17, 64)        36928     \n",
      "_________________________________________________________________\n",
      "max_pooling2d_1 (MaxPooling2 (None, 8, 8, 64)          0         \n",
      "_________________________________________________________________\n",
      "conv2d_4 (Conv2D)            (None, 6, 6, 128)         73856     \n",
      "_________________________________________________________________\n",
      "max_pooling2d_2 (MaxPooling2 (None, 3, 3, 128)         0         \n",
      "_________________________________________________________________\n",
      "dropout (Dropout)            (None, 3, 3, 128)         0         \n",
      "_________________________________________________________________\n",
      "flatten (Flatten)            (None, 1152)              0         \n",
      "_________________________________________________________________\n",
      "flatten_1 (Flatten)          (None, 1152)              0         \n",
      "_________________________________________________________________\n",
      "dense (Dense)                (None, 128)               147584    \n",
      "_________________________________________________________________\n",
      "dropout_1 (Dropout)          (None, 128)               0         \n",
      "_________________________________________________________________\n",
      "dense_1 (Dense)              (None, 128)               16512     \n",
      "_________________________________________________________________\n",
      "dropout_2 (Dropout)          (None, 128)               0         \n",
      "_________________________________________________________________\n",
      "dense_2 (Dense)              (None, 128)               16512     \n",
      "_________________________________________________________________\n",
      "dense_3 (Dense)              (None, 2)                 258       \n",
      "=================================================================\n",
      "Total params: 323,394\n",
      "Trainable params: 323,394\n",
      "Non-trainable params: 0\n",
      "_________________________________________________________________\n",
      "None\n"
     ]
    }
   ],
   "source": [
    "print(model.summary())"
   ]
  },
  {
   "cell_type": "code",
   "execution_count": 31,
   "metadata": {},
   "outputs": [],
   "source": [
    "#import matplotlib.pyplot as plt #vizualizacion grafica como cybog"
   ]
  },
  {
   "cell_type": "code",
   "execution_count": 32,
   "metadata": {},
   "outputs": [
    {
     "data": {
      "text/plain": [
       "array([[0.9658291 , 0.03417092]], dtype=float32)"
      ]
     },
     "execution_count": 32,
     "metadata": {},
     "output_type": "execute_result"
    }
   ],
   "source": [
    "prediction"
   ]
  },
  {
   "cell_type": "code",
   "execution_count": 33,
   "metadata": {},
   "outputs": [
    {
     "name": "stdout",
     "output_type": "stream",
     "text": [
      "Termino\n"
     ]
    }
   ],
   "source": [
    "print(\"Termino\")"
   ]
  }
 ],
 "metadata": {
  "kernelspec": {
   "display_name": "Python 3",
   "language": "python",
   "name": "python3"
  },
  "language_info": {
   "codemirror_mode": {
    "name": "ipython",
    "version": 3
   },
   "file_extension": ".py",
   "mimetype": "text/x-python",
   "name": "python",
   "nbconvert_exporter": "python",
   "pygments_lexer": "ipython3",
   "version": "3.7.3"
  }
 },
 "nbformat": 4,
 "nbformat_minor": 4
}
