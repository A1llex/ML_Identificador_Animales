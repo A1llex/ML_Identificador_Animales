{
 "cells": [
  {
   "cell_type": "code",
   "execution_count": 1,
   "metadata": {},
   "outputs": [],
   "source": [
    "import tensorflow.keras as kr \n",
    "import pickle"
   ]
  },
  {
   "cell_type": "code",
   "execution_count": 2,
   "metadata": {},
   "outputs": [],
   "source": [
    "#last excercise was to do this, so im not going show you my script\n",
    "# Opening the files about data\n",
    "train_images = pickle.load(open(\"./features.pickle\", \"rb\"))\n",
    "#train_images /= 255\n",
    "\n",
    "train_labels = pickle.load(open(\"./labels.pickle\", \"rb\"))\n",
    "#train_labels = np.asarray(train_labels)"
   ]
  },
  {
   "cell_type": "code",
   "execution_count": 3,
   "metadata": {},
   "outputs": [
    {
     "name": "stdout",
     "output_type": "stream",
     "text": [
      "es  <class 'numpy.ndarray'>\n",
      "(3946, 50, 50, 1)\n",
      "es  <class 'numpy.ndarray'>\n",
      "(3946,)\n"
     ]
    }
   ],
   "source": [
    "print(\"es \",type(train_images))\n",
    "print(train_images.shape)\n",
    "\n",
    "print(\"es \",type(train_labels))\n",
    "print((train_labels.shape))"
   ]
  },
  {
   "cell_type": "code",
   "execution_count": 4,
   "metadata": {},
   "outputs": [
    {
     "name": "stdout",
     "output_type": "stream",
     "text": [
      "WARNING:tensorflow:From D:\\Users\\User\\Anaconda3\\lib\\site-packages\\tensorflow\\python\\ops\\init_ops.py:1251: calling VarianceScaling.__init__ (from tensorflow.python.ops.init_ops) with dtype is deprecated and will be removed in a future version.\n",
      "Instructions for updating:\n",
      "Call initializer instance with the dtype argument instead of passing it to the constructor\n"
     ]
    }
   ],
   "source": [
    "#from IPython.core.display import display, HTML\n",
    "\n",
    "model = kr.Sequential([\n",
    "    kr.layers.Conv2D(16, (5, 5 ),activation = 'relu',input_shape = train_images.shape[1:]),\n",
    "    kr.layers.Conv2D(32, (5, 5),activation = 'relu'),\n",
    "    kr.layers.MaxPooling2D(2,2),\n",
    "    kr.layers.Conv2D(64, (3, 3),activation = 'relu'),\n",
    "    kr.layers.Conv2D(64, (3, 3),activation = 'relu'),\n",
    "    kr.layers.MaxPooling2D(2,2),\n",
    "    kr.layers.Conv2D(128, (3, 3),activation = 'relu'),\n",
    "    kr.layers.MaxPooling2D(2,2),\n",
    "    kr.layers.Dropout(0.25),\n",
    "    kr.layers.Flatten(),\n",
    "    #kr.layers.Conv2D(128, (3, 3),activation = 'relu'),\n",
    "    #kr.layers.MaxPooling2D(2,2),\n",
    "    kr.layers.Flatten(),\n",
    "    kr.layers.Dense(128, activation=\"relu\"),\n",
    "    kr.layers.Dropout(0.3),\n",
    "    kr.layers.Dense(128, activation=\"relu\"),\n",
    "    kr.layers.Dropout(0.3),\n",
    "    kr.layers.Dense(128, activation=\"relu\"),\n",
    "    #kr.layers.Dense(32, activation=\"relu\"),\n",
    "    #kr.layers.Dense(16, activation=\"relu\"),\n",
    "    kr.layers.Dense(2, activation=\"softmax\")\n",
    "    #kr.layers.Dense(1, activation=\"sigmoid\")\n",
    "])\n"
   ]
  },
  {
   "cell_type": "code",
   "execution_count": 5,
   "metadata": {},
   "outputs": [
    {
     "name": "stdout",
     "output_type": "stream",
     "text": [
      "Train on 3156 samples, validate on 790 samples\n",
      "Epoch 1/25\n",
      "3156/3156 [==============================] - 3s 863us/sample - loss: 0.6185 - acc: 0.6435 - val_loss: 0.6222 - val_acc: 0.5582\n",
      "Epoch 2/25\n",
      "3156/3156 [==============================] - 1s 353us/sample - loss: 0.5806 - acc: 0.6711 - val_loss: 0.5592 - val_acc: 0.7253\n",
      "Epoch 3/25\n",
      "3156/3156 [==============================] - 1s 353us/sample - loss: 0.5404 - acc: 0.7208 - val_loss: 0.5468 - val_acc: 0.7241\n",
      "Epoch 4/25\n",
      "3156/3156 [==============================] - 1s 354us/sample - loss: 0.5267 - acc: 0.7402 - val_loss: 0.5351 - val_acc: 0.7051\n",
      "Epoch 5/25\n",
      "3156/3156 [==============================] - 1s 352us/sample - loss: 0.5273 - acc: 0.7361 - val_loss: 0.5175 - val_acc: 0.7380\n",
      "Epoch 6/25\n",
      "3156/3156 [==============================] - 1s 347us/sample - loss: 0.5030 - acc: 0.7494 - val_loss: 0.5046 - val_acc: 0.7367\n",
      "Epoch 7/25\n",
      "3156/3156 [==============================] - 1s 353us/sample - loss: 0.5103 - acc: 0.7510 - val_loss: 0.4971 - val_acc: 0.7367\n",
      "Epoch 8/25\n",
      "3156/3156 [==============================] - 1s 352us/sample - loss: 0.4832 - acc: 0.7668 - val_loss: 0.5136 - val_acc: 0.7329\n",
      "Epoch 9/25\n",
      "3156/3156 [==============================] - 1s 354us/sample - loss: 0.4833 - acc: 0.7677 - val_loss: 0.5012 - val_acc: 0.7392\n",
      "Epoch 10/25\n",
      "3156/3156 [==============================] - 1s 356us/sample - loss: 0.4808 - acc: 0.7700 - val_loss: 0.4950 - val_acc: 0.7608\n",
      "Epoch 11/25\n",
      "3156/3156 [==============================] - 1s 352us/sample - loss: 0.4737 - acc: 0.7703 - val_loss: 0.4920 - val_acc: 0.7570\n",
      "Epoch 12/25\n",
      "3156/3156 [==============================] - 1s 351us/sample - loss: 0.4572 - acc: 0.7807 - val_loss: 0.4960 - val_acc: 0.7557\n",
      "Epoch 13/25\n",
      "3156/3156 [==============================] - 1s 353us/sample - loss: 0.4503 - acc: 0.7858 - val_loss: 0.4873 - val_acc: 0.7684\n",
      "Epoch 14/25\n",
      "3156/3156 [==============================] - 1s 354us/sample - loss: 0.4433 - acc: 0.7963 - val_loss: 0.5050 - val_acc: 0.7468\n",
      "Epoch 15/25\n",
      "3156/3156 [==============================] - 1s 392us/sample - loss: 0.4344 - acc: 0.7988 - val_loss: 0.4874 - val_acc: 0.7506\n",
      "Epoch 16/25\n",
      "3156/3156 [==============================] - 1s 364us/sample - loss: 0.4305 - acc: 0.7944 - val_loss: 0.4806 - val_acc: 0.7557\n",
      "Epoch 17/25\n",
      "3156/3156 [==============================] - 1s 395us/sample - loss: 0.4110 - acc: 0.8156 - val_loss: 0.4926 - val_acc: 0.7544\n",
      "Epoch 18/25\n",
      "3156/3156 [==============================] - 1s 386us/sample - loss: 0.3961 - acc: 0.8207 - val_loss: 0.5256 - val_acc: 0.7734\n",
      "Epoch 19/25\n",
      "3156/3156 [==============================] - 1s 403us/sample - loss: 0.3926 - acc: 0.8241 - val_loss: 0.5424 - val_acc: 0.7089\n",
      "Epoch 20/25\n",
      "3156/3156 [==============================] - 1s 391us/sample - loss: 0.3632 - acc: 0.8387 - val_loss: 0.5062 - val_acc: 0.7684\n",
      "Epoch 21/25\n",
      "3156/3156 [==============================] - 1s 414us/sample - loss: 0.3661 - acc: 0.8375 - val_loss: 0.5574 - val_acc: 0.7620\n",
      "Epoch 22/25\n",
      "3156/3156 [==============================] - 1s 392us/sample - loss: 0.3518 - acc: 0.8406 - val_loss: 0.5477 - val_acc: 0.7582\n",
      "Epoch 23/25\n",
      "3156/3156 [==============================] - 1s 372us/sample - loss: 0.3311 - acc: 0.8580 - val_loss: 0.5184 - val_acc: 0.7696\n",
      "Epoch 24/25\n",
      "3156/3156 [==============================] - 1s 376us/sample - loss: 0.3190 - acc: 0.8625 - val_loss: 0.5394 - val_acc: 0.7633\n",
      "Epoch 25/25\n",
      "3156/3156 [==============================] - 1s 375us/sample - loss: 0.2816 - acc: 0.8815 - val_loss: 0.5351 - val_acc: 0.7709\n"
     ]
    },
    {
     "data": {
      "text/plain": [
       "<tensorflow.python.keras.callbacks.History at 0x17e9cf168d0>"
      ]
     },
     "execution_count": 5,
     "metadata": {},
     "output_type": "execute_result"
    }
   ],
   "source": [
    "#model.compile(loss='binary_crossentropy',optimizer='adam',metrics=['accuracy'])\n",
    "\n",
    "# Compiling the model using some basic parameters\n",
    "model.compile( loss='sparse_categorical_crossentropy', optimizer='adam',metrics=['accuracy'])\n",
    "\n",
    "# Y entrenamos al modelo. Los callbacks \n",
    "#model.fit(train_images,train_labels, epochs=20)\n",
    "model.fit(train_images,train_labels,batch_size=32,epochs=25,validation_split=0.2)\n",
    "#model.fit(train_images,train_labels,batch_size=32,epochs=30 ,validation_split=0.3 ,steps_per_epoch = 10)"
   ]
  },
  {
   "cell_type": "code",
   "execution_count": 6,
   "metadata": {},
   "outputs": [],
   "source": [
    "#model.save(\"model.Aveztruz\")\n",
    "model.save(\"model.MLA\")"
   ]
  },
  {
   "cell_type": "code",
   "execution_count": 7,
   "metadata": {},
   "outputs": [
    {
     "name": "stdout",
     "output_type": "stream",
     "text": [
      "TERMINO\n"
     ]
    }
   ],
   "source": [
    "print(\"TERMINO\")"
   ]
  }
 ],
 "metadata": {
  "kernelspec": {
   "display_name": "Python 3",
   "language": "python",
   "name": "python3"
  },
  "language_info": {
   "codemirror_mode": {
    "name": "ipython",
    "version": 3
   },
   "file_extension": ".py",
   "mimetype": "text/x-python",
   "name": "python",
   "nbconvert_exporter": "python",
   "pygments_lexer": "ipython3",
   "version": "3.7.3"
  }
 },
 "nbformat": 4,
 "nbformat_minor": 4
}
